{
 "cells": [
  {
   "cell_type": "code",
   "execution_count": 2,
   "metadata": {},
   "outputs": [],
   "source": [
    "import numpy as np\n",
    "import math\n",
    "import matplotlib.pyplot as plt\n",
    "import matplotlib\n",
    "import datetime\n",
    "import tabula\n",
    "import os\n",
    "import geopandas as gpd\n",
    "import descartes\n",
    "from mpl_toolkits.axes_grid1 import make_axes_locatable\n",
    "from mpl_toolkits.axes_grid1.inset_locator import inset_axes\n",
    "from shapely.geometry import mapping, Point, Polygon\n",
    "# The following makes it so if you use hatch in drawing a map, it has thicker lines.\n",
    "matplotlib.rc('hatch', color='k', linewidth=2)\n",
    "import pandas as pd\n",
    "import matplotlib.dates as mdates\n",
    "import matplotlib.ticker as mtick\n",
    "from scipy.special import gamma\n",
    "import json\n",
    "import urllib.request\n",
    "from pandas.io.json import json_normalize #package for flattening json in pandas df\n",
    "import turtle"
   ]
  },
  {
   "cell_type": "code",
   "execution_count": 3,
   "metadata": {},
   "outputs": [
    {
     "data": {
      "text/html": [
       "<style>.container { width:80% !important; }</style>"
      ],
      "text/plain": [
       "<IPython.core.display.HTML object>"
      ]
     },
     "metadata": {},
     "output_type": "display_data"
    }
   ],
   "source": [
    "from IPython.core.display import display, HTML\n",
    "display(HTML(\"<style>.container { width:80% !important; }</style>\"))\n",
    "# display(HTML(\"<style>div.cell.selected { border-left-width: 1px !important;}</style>\"))\n",
    "# display(HTML('''<style>\n",
    "#     div.cell{\n",
    "#         width:100%;\n",
    "#         margin-left:1%;\n",
    "#         margin-right:auto;\n",
    "#     }\n",
    "# </style>''')"
   ]
  },
  {
   "cell_type": "markdown",
   "metadata": {},
   "source": [
    "## This code will draw a really nice guy.\n",
    "\n",
    "After it draws the nice guy, you will notice python is still running - there is still a star In [\\*] below.  You need to close the window that was opened for it to finish.  \n",
    "\n",
    "Also, the last line will produce an error, but it has to be there or it will fail in the future. ???"
   ]
  },
  {
   "cell_type": "code",
   "execution_count": 6,
   "metadata": {},
   "outputs": [
    {
     "ename": "Terminator",
     "evalue": "",
     "output_type": "error",
     "traceback": [
      "\u001b[0;31m---------------------------------------------------------------------------\u001b[0m",
      "\u001b[0;31mTerminator\u001b[0m                                Traceback (most recent call last)",
      "\u001b[0;32m<ipython-input-6-d2f7394c1c4a>\u001b[0m in \u001b[0;36m<module>\u001b[0;34m\u001b[0m\n\u001b[1;32m     93\u001b[0m \u001b[0;34m\u001b[0m\u001b[0m\n\u001b[1;32m     94\u001b[0m \u001b[0mturtle\u001b[0m\u001b[0;34m.\u001b[0m\u001b[0mmainloop\u001b[0m\u001b[0;34m(\u001b[0m\u001b[0;34m)\u001b[0m\u001b[0;34m\u001b[0m\u001b[0;34m\u001b[0m\u001b[0m\n\u001b[0;32m---> 95\u001b[0;31m \u001b[0mturtle\u001b[0m\u001b[0;34m.\u001b[0m\u001b[0mclear\u001b[0m\u001b[0;34m(\u001b[0m\u001b[0;34m)\u001b[0m\u001b[0;34m\u001b[0m\u001b[0;34m\u001b[0m\u001b[0m\n\u001b[0m",
      "\u001b[0;32m~/anaconda/envs/py3/lib/python3.8/turtle.py\u001b[0m in \u001b[0;36mclear\u001b[0;34m()\u001b[0m\n",
      "\u001b[0;31mTerminator\u001b[0m: "
     ]
    }
   ],
   "source": [
    "# Creating a turtle object(pen)\n",
    "pen = turtle.Turtle()\n",
    "  \n",
    "# Defining method to draw a colored circle \n",
    "# with a dynamic radius\n",
    "def ring(col, rad):\n",
    "  \n",
    "    # Set the fill\n",
    "    pen.fillcolor(col)\n",
    "  \n",
    "    # Start filling the color\n",
    "    pen.begin_fill()\n",
    "  \n",
    "    # Draw a circle\n",
    "    pen.circle(rad)\n",
    "  \n",
    "    # Ending the filling of the color\n",
    "    pen.end_fill()\n",
    "    return None\n",
    "##########################Main Section#############################\n",
    "  \n",
    "# pen.up             --> move turtle to air\n",
    "# pen.down           --> move turtle to ground\n",
    "# pen.setpos         --> move turtle to given position\n",
    "# ring(color, radius) --> draw a ring of specified color and radius\n",
    "###################################################################\n",
    "  \n",
    "##### Draw ears #####\n",
    "# Draw first ear\n",
    "pen.up()\n",
    "pen.setpos(-35, 95)\n",
    "pen.down\n",
    "ring('black', 15)\n",
    "  \n",
    "# Draw second ear\n",
    "pen.up()\n",
    "pen.setpos(35, 95)\n",
    "pen.down()\n",
    "ring('black', 15)\n",
    "  \n",
    "##### Draw face #####\n",
    "pen.up()\n",
    "pen.setpos(0, 35)\n",
    "pen.down()\n",
    "ring('white', 40)\n",
    "  \n",
    "##### Draw eyes black #####\n",
    "  \n",
    "# Draw first eye\n",
    "pen.up()\n",
    "pen.setpos(-18, 75)\n",
    "pen.down\n",
    "ring('black', 8)\n",
    "  \n",
    "# Draw second eye\n",
    "pen.up()\n",
    "pen.setpos(18, 75)\n",
    "pen.down()\n",
    "ring('black', 8)\n",
    "  \n",
    "##### Draw eyes white #####\n",
    "  \n",
    "# Draw first eye\n",
    "pen.up()\n",
    "pen.setpos(-18, 77)\n",
    "pen.down()\n",
    "ring('white', 4)\n",
    "  \n",
    "# Draw second eye\n",
    "pen.up()\n",
    "pen.setpos(18, 77)\n",
    "pen.down()\n",
    "ring('white', 4)\n",
    "  \n",
    "##### Draw nose #####\n",
    "pen.up()\n",
    "pen.setpos(0, 55)\n",
    "pen.down\n",
    "ring('black', 5)\n",
    "  \n",
    "##### Draw mouth #####\n",
    "pen.up()\n",
    "pen.setpos(0, 55)\n",
    "pen.down()\n",
    "pen.right(90)\n",
    "pen.circle(5, 180)\n",
    "pen.up()\n",
    "pen.setpos(0, 55)\n",
    "pen.down()\n",
    "pen.left(360)\n",
    "pen.circle(5, -180)\n",
    "pen.hideturtle()\n",
    "\n",
    "turtle.mainloop()\n",
    "turtle.clear()"
   ]
  },
  {
   "cell_type": "code",
   "execution_count": null,
   "metadata": {},
   "outputs": [],
   "source": []
  }
 ],
 "metadata": {
  "kernelspec": {
   "display_name": "Python 3",
   "language": "python",
   "name": "python3"
  },
  "language_info": {
   "codemirror_mode": {
    "name": "ipython",
    "version": 3
   },
   "file_extension": ".py",
   "mimetype": "text/x-python",
   "name": "python",
   "nbconvert_exporter": "python",
   "pygments_lexer": "ipython3",
   "version": "3.8.2"
  }
 },
 "nbformat": 4,
 "nbformat_minor": 4
}
